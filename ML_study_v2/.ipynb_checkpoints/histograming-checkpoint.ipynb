{
 "cells": [
  {
   "cell_type": "code",
   "execution_count": null,
   "metadata": {},
   "outputs": [],
   "source": [
    "import ROOT\n",
    "from ROOT import TFile, TTree, TH1F, TCanvas, TAxis, TLegend, TTreeReader, TTreeReaderValue\n",
    "import copy\n",
    "import time\n",
    "import math\n",
    "import concurrent.futures\n",
    "ROOT.gStyle.SetOptStat(0)"
   ]
  },
  {
   "cell_type": "code",
   "execution_count": null,
   "metadata": {},
   "outputs": [],
   "source": [
    "# ==== Implement weight of MCs ====\n",
    "def get_weight(sample):\n",
    "    lumi = 41.53*1000\n",
    "    weight_xsec = {\n",
    "        'QCD_Pt_300to470': lumi*6830/111229780,\n",
    "        'QCD_Pt_470to600': lumi*552.1/27881028,\n",
    "        'QCD_Pt_600to800': lumi*156.5/12807188,\n",
    "        'QCD_Pt_800to1000': lumi*26.28/1906000,\n",
    "        'QCD_Pt_1000to1400': lumi*7.47/1517308,\n",
    "        'QCD_Pt_1400to1800': lumi*0.6484/776000,\n",
    "        'QCD_Pt_1800to2400': lumi*0.08743/856734,\n",
    "        'QCD_Pt_2400to3200': lumi*0.005236/1485988,\n",
    "        'QCD_Pt_3200toInf': lumi*0.0001357/757837,\n",
    "    }\n",
    "    return weight_xsec[sample]"
   ]
  },
  {
   "cell_type": "code",
   "execution_count": null,
   "metadata": {},
   "outputs": [],
   "source": [
    "def histograming(sample, batch_size, ibatch):\n",
    "    weight = get_weight(sample)\n",
    "    inFile = TFile.Open(f\"/home/xyan13/Trijet/TrijetAna/TrijetAna/outputs/{sample}_ML_study.root\")\n",
    "    outFile = TFile(f\"{sample}_{ibatch}.root\",\"RECREATE\") # Well, we need this dummy declaration to make the clone work\n",
    "    tree = inFile.Get(\"Events\")\n",
    "    variable2use = {}\n",
    "    variable2use[\"m_jj\"] = {\"title\": \"m_{jj} [GeV]\", \"binning\": 100, \"lb\": 0, \"hb\": 8000}\n",
    "    variable2use[\"dijet_eta\"] = {\"title\": \"#eta_{jj}\", \"binning\": 100, \"lb\": 0, \"hb\": 3}\n",
    "    variable2use[\"dR_jj\"] = {\"title\": \"#Delta R_{jj}\", \"binning\": 100, \"lb\": 0, \"hb\": 6}\n",
    "    variable2use[\"dEta_jj\"] = {\"title\": \"#Delta #eta_{jj}\", \"binning\": 100, \"lb\": 0, \"hb\": 3}\n",
    "    variable2use[\"dPhi_jj\"] = {\"title\": \"#Delta #phi_{jj}\", \"binning\": 100, \"lb\": 0, \"hb\": 6.5}\n",
    "    variable2use[\"dR_j0j2\"] = {\"title\": \"#Delta R_{j0j2}\", \"binning\": 100, \"lb\": 0, \"hb\": 6}\n",
    "    variable2use[\"dEta_j0j2\"] = {\"title\": \"#Delta #eta_{j0j2}\", \"binning\": 100, \"lb\": 0, \"hb\": 3}\n",
    "    variable2use[\"dPhi_j0j2\"] = {\"title\": \"#Delta #phi_{j0j2}\", \"binning\": 100, \"lb\": 0, \"hb\": 6.5}\n",
    "    variable2use[\"dR_j1j2\"] = {\"title\": \"#Delta R_{j1j2}\", \"binning\": 100, \"lb\": 0, \"hb\": 6}\n",
    "    variable2use[\"dEta_j1j2\"] = {\"title\": \"#Delta #eta_{j1j2}\", \"binning\": 100, \"lb\": 0, \"hb\": 3}\n",
    "    variable2use[\"dPhi_j1j2\"] = {\"title\": \"#Delta #phi_{j1j2}\", \"binning\": 100, \"lb\": 0, \"hb\": 6.5}\n",
    "    variable2use[\"jet_eta_0\"] = {\"title\": \"#eta_{j0}\", \"binning\": 100, \"lb\": 0, \"hb\": 3}\n",
    "    variable2use[\"jet_eta_1\"] = {\"title\": \"#eta_{j1}\", \"binning\": 100, \"lb\": 0, \"hb\": 3}\n",
    "    variable2use[\"jet_eta_2\"] = {\"title\": \"#eta_{j2}\", \"binning\": 100, \"lb\": 0, \"hb\": 3}\n",
    "    variable2use[\"jet_ptoverm_0\"] = {\"title\": \"p^{j0}_{T}/m_{jj}\", \"binning\": 100, \"lb\": 0, \"hb\": 3}\n",
    "    variable2use[\"jet_ptoverm_1\"] = {\"title\": \"p^{j1}_{T}/m_{jj}\", \"binning\": 100, \"lb\": 0, \"hb\": 3}\n",
    "    variable2use[\"jet_ptoverm_2\"] = {\"title\": \"p^{j2}_{T}/m_{jj}\", \"binning\": 100, \"lb\": 0, \"hb\": 3}\n",
    "    variable2use[\"dR_jj_j\"] = {\"title\": \"#Delta R_{jj-j}\", \"binning\": 100, \"lb\": 0, \"hb\": 6}\n",
    "    variable2use[\"dEta_jj_j\"] = {\"title\": \"#Delta #eta_{jj-j}\", \"binning\": 100, \"lb\": 0, \"hb\": 3}\n",
    "    variable2use[\"dPhi_jj_j\"] = {\"title\": \"#Delta #phi_{jj-j}\", \"binning\": 100, \"lb\": 0, \"hb\": 6.5}\n",
    "    variable2use[\"jet_ptoverM_0\"] = {\"title\": \"p^{j0}_{T}/M_{jjj}\", \"binning\": 100, \"lb\": 0, \"hb\": 3}\n",
    "    variable2use[\"jet_ptoverM_1\"] = {\"title\": \"p^{j1}_{T}/M_{jjj}\", \"binning\": 100, \"lb\": 0, \"hb\": 3}\n",
    "    variable2use[\"jet_ptoverM_2\"] = {\"title\": \"p^{j2}_{T}/M_{jjj}\", \"binning\": 100, \"lb\": 0, \"hb\": 1}\n",
    "    variable2use[\"dijet_ptoverM\"] = {\"title\": \"p^{jj}_{T}/M_{jjj}\", \"binning\": 100, \"lb\": 0, \"hb\": 1}\n",
    "    variable2use[\"M_jjj\"] = {\"title\": \"M_{jjj}\", \"binning\": 100, \"lb\": 0, \"hb\": 8000}\n",
    "\n",
    "    histo_dic = {}\n",
    "    for variable, param_dict in variable2use.items():\n",
    "        histo_dic[variable] = TH1F(f\"{sample}_{variable}\",param_dict[\"title\"],param_dict[\"binning\"], param_dict[\"lb\"], param_dict[\"hb\"])\n",
    "        histo_dic[variable].SetCanExtend(ROOT.TH1.kYaxis)\n",
    "        \n",
    "    start = time.time()\n",
    "    evt_start = ibatch*batch_size\n",
    "    evt_end = (ibatch+1)*batch_size\n",
    "    if((ibatch+1)*batch_size > tree.GetEntries()):\n",
    "        evt_end = tree.GetEntries()\n",
    "    for ievt in range(evt_start, evt_end):\n",
    "        tree.GetEntry(ievt)\n",
    "        if(ievt % 100000 == 0):\n",
    "            print(f\"{round((ievt - evt_start)/ batch_size,2)*100}%\")\n",
    "        for variable, hist in histo_dic.items():\n",
    "            hist.Fill(getattr(tree, variable),weight)\n",
    "    outFile.cd()\n",
    "#     for variable, hist in histo_dic.items():\n",
    "#         hist.Write()\n",
    "    outFile.Write()\n",
    "    outFile.Close\n",
    "    return 0"
   ]
  },
  {
   "cell_type": "code",
   "execution_count": null,
   "metadata": {
    "scrolled": false
   },
   "outputs": [],
   "source": [
    "if __name__ == '__main__':\n",
    "    \n",
    "    main_start = time.time()\n",
    "    \n",
    "    sample_list = [\"QCD_Pt_300to470\"]\n",
    "    #sample_list = [\"QCD_Pt_470to600\",\"QCD_Pt_600to800\",\"QCD_Pt_800to1000\",\"QCD_Pt_1000to1400\",\"QCD_Pt_1400to1800\",\"QCD_Pt_1800to2400\",\"QCD_Pt_2400to3200\",\"QCD_Pt_3200toInf\"]\n",
    "    \n",
    "    for sample in sample_list:\n",
    "        temp_file = TFile(f\"/home/xyan13/Trijet/TrijetAna/TrijetAna/outputs/{sample}_ML_study.root\",\"READ\")\n",
    "        temp_tree = temp_file.Get(\"Events\")\n",
    "        tot_evts = temp_tree.GetEntries()\n",
    "\n",
    "        expect_time = 0.2 # in hrs\n",
    "        known_speed = 4 # sec per 10k candidates\n",
    "        evt_batch = int(expect_time * 3600 / known_speed * 10000)\n",
    "        num_batch = math.ceil(tot_evts / evt_batch)\n",
    "        print(f\"Number of Candidates to be processed: {tot_evts}\")\n",
    "        print(f\"Candidates to be processed per batch: {evt_batch}\")\n",
    "        print(f\"Number of batches to be processed: {num_batch}\")\n",
    "        with concurrent.futures.ProcessPoolExecutor() as executor:\n",
    "            results = [executor.submit(histograming, sample, evt_batch, ibatch) for ibatch in range(0,num_batch)]\n",
    "            status = [r.result() for r in results]\n",
    "            print(status)\n",
    "\n",
    "    print(f\"Time used: {round(time.time() - main_start, 2)}\")"
   ]
  },
  {
   "cell_type": "code",
   "execution_count": null,
   "metadata": {},
   "outputs": [],
   "source": []
  }
 ],
 "metadata": {
  "kernelspec": {
   "display_name": "Python 3",
   "language": "python",
   "name": "python3"
  },
  "language_info": {
   "codemirror_mode": {
    "name": "ipython",
    "version": 3
   },
   "file_extension": ".py",
   "mimetype": "text/x-python",
   "name": "python",
   "nbconvert_exporter": "python",
   "pygments_lexer": "ipython3",
   "version": "3.7.9"
  }
 },
 "nbformat": 4,
 "nbformat_minor": 4
}
