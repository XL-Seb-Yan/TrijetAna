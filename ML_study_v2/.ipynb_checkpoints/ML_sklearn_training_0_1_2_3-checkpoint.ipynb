{
 "cells": [
  {
   "cell_type": "code",
   "execution_count": 1,
   "metadata": {},
   "outputs": [
    {
     "name": "stdout",
     "output_type": "stream",
     "text": [
      "Welcome to JupyROOT 6.22/06\n"
     ]
    }
   ],
   "source": [
    "import matplotlib.pyplot as plt\n",
    "import numpy as np\n",
    "import pandas as pd\n",
    "import math\n",
    "import ROOT\n",
    "from ROOT import TFile, TTree, TH1F, TCanvas, TAxis, TLegend, TTreeReader, TTreeReaderValue\n",
    "from sklearn.model_selection import train_test_split\n",
    "from sklearn.decomposition import PCA\n",
    "from sklearn import preprocessing\n",
    "from sklearn.tree import DecisionTreeRegressor\n",
    "from sklearn.ensemble import AdaBoostRegressor\n",
    "from sklearn.preprocessing import StandardScaler"
   ]
  },
  {
   "cell_type": "code",
   "execution_count": 2,
   "metadata": {},
   "outputs": [],
   "source": [
    "def make_df(outTree):\n",
    "    data, columns = outTree.AsMatrix(return_labels=True)\n",
    "    df_temp = pd.DataFrame(data=data, columns=columns)\n",
    "    df = df_temp.iloc[:, :len(df_temp.columns)-1]\n",
    "    label = df_temp.iloc[:, len(df_temp.columns)-1:len(df_temp.columns)]\n",
    "    return df, label"
   ]
  },
  {
   "cell_type": "code",
   "execution_count": 31,
   "metadata": {},
   "outputs": [],
   "source": [
    "def eval_regreesion(df, label, model):\n",
    "    # Plot BDT output\n",
    "    sig3_index_list = np.where((label.values.ravel() == 3))[0].tolist()\n",
    "    sig2_index_list = np.where((label.values.ravel() == 2))[0].tolist()\n",
    "    bkg1_index_list = np.where((label.values.ravel() == 1))[0].tolist()\n",
    "    bkg0_index_list = np.where((label.values.ravel() == 0))[0].tolist()\n",
    "    print(\"Number of signals 3 for testing: \", len(sig3_index_list))\n",
    "    print(\"Number of signals 2 for testing: \", len(sig2_index_list))\n",
    "    print(\"Number of backgrounds 1 for testing: \", len(bkg1_index_list))\n",
    "    print(\"Number of backgrounds 0 for testing: \", len(bkg0_index_list))\n",
    "    result_sig_3 = clf.predict(df.iloc[sig3_index_list])\n",
    "    result_sig_2 = clf.predict(df.iloc[sig2_index_list])\n",
    "    result_bkg_1 = clf.predict(df.iloc[bkg1_index_list])\n",
    "    result_bkg_0 = clf.predict(df.iloc[bkg0_index_list])\n",
    "    max_sig_response = max([result_sig_3.tolist(), result_sig_2.tolist()])\n",
    "    max_bkg_response = max([result_bkg_1.tolist(), result_bkg_0.tolist()])\n",
    "    max_response = max(max([max_sig_response, max_bkg_response]))\n",
    "    \n",
    "    fig = plt.figure()   \n",
    "    ax0 = fig.add_subplot(1,1,1)\n",
    "    plt.hist(result_sig_3,50, color='r', alpha=0.5, label=\"match-3\")\n",
    "    plt.hist(result_sig_2,50, color='orangered', alpha=0.5, label=\"match-2\")\n",
    "    plt.hist(result_bkg_1,50, color='b', alpha=0.5, label=\"unmatch-1\")\n",
    "    plt.hist(result_bkg_0,50, color='dodgerblue', alpha=0.5, label=\"unmatch-0\")\n",
    "    ax0.set_ylabel(\"Events\")\n",
    "    ax0.set_xlabel(\"BDT response\")\n",
    "    ax0.set_xlim(-0.01,max_response+0.05)\n",
    "    handles, labels = ax0.get_legend_handles_labels()\n",
    "    ax0.legend(handles, labels)\n",
    "    fig.set_figheight(8)\n",
    "    fig.set_figwidth(12)\n",
    "    fig.show()"
   ]
  },
  {
   "cell_type": "code",
   "execution_count": 41,
   "metadata": {},
   "outputs": [
    {
     "name": "stdout",
     "output_type": "stream",
     "text": [
      "26047 15858 81092 21195\n",
      "Processing:  0\n",
      "Processing:  10000\n",
      "Processing:  20000\n",
      "Processing:  30000\n",
      "Processing:  40000\n",
      "Processing:  50000\n",
      "Processing:  60000\n",
      "Processing:  70000\n",
      "Processing:  80000\n",
      "Processing:  90000\n",
      "Processing:  100000\n",
      "Processing:  110000\n",
      "Processing:  120000\n",
      "Processing:  130000\n",
      "Processing:  140000\n",
      "6291 6232 6196 6183\n"
     ]
    }
   ],
   "source": [
    "sample = \"M1-3000_R-0p7\"\n",
    "tempFile = TFile(f\"{sample}_training.root\",\"RECREATE\")\n",
    "outTree = TTree()\n",
    "inFile = TFile(f\"/home/xyan13/Trijet/TrijetAna/TrijetAna/outputs_3_jets/Res1ToRes2GluTo3Glu_{sample}_ML_study.root\")\n",
    "inTree = inFile.Get(\"Events\")\n",
    "dijet_eta = np.empty((1), dtype=\"float32\")\n",
    "dijet_phi = np.empty((1), dtype=\"float32\")\n",
    "dR_jj = np.empty((1), dtype=\"float32\")\n",
    "dEta_jj = np.empty((1), dtype=\"float32\")\n",
    "dPhi_jj = np.empty((1), dtype=\"float32\")\n",
    "dR_j0j2 = np.empty((1), dtype=\"float32\")\n",
    "dEta_j0j2 = np.empty((1), dtype=\"float32\")\n",
    "dPhi_j0j2 = np.empty((1), dtype=\"float32\")\n",
    "dR_j1j2 = np.empty((1), dtype=\"float32\")\n",
    "dEta_j1j2 = np.empty((1), dtype=\"float32\")\n",
    "dPhi_j1j2 = np.empty((1), dtype=\"float32\")\n",
    "jet_eta_0 = np.empty((1), dtype=\"float32\")\n",
    "jet_phi_0 = np.empty((1), dtype=\"float32\")\n",
    "jet_ptoverm_0 = np.empty((1), dtype=\"float32\")\n",
    "jet_eta_1 = np.empty((1), dtype=\"float32\")\n",
    "jet_phi_1 = np.empty((1), dtype=\"float32\")\n",
    "jet_ptoverm_1 = np.empty((1), dtype=\"float32\")\n",
    "jet_eta_2 = np.empty((1), dtype=\"float32\")\n",
    "jet_phi_2 = np.empty((1), dtype=\"float32\")\n",
    "jet_ptoverm_2 = np.empty((1), dtype=\"float32\")\n",
    "dR_jj_j = np.empty((1), dtype=\"float32\")\n",
    "dEta_jj_j = np.empty((1), dtype=\"float32\")\n",
    "dPhi_jj_j = np.empty((1), dtype=\"float32\")\n",
    "jet_ptoverM_0 = np.empty((1), dtype=\"float32\")\n",
    "jet_ptoverM_1 = np.empty((1), dtype=\"float32\")\n",
    "jet_ptoverM_2 = np.empty((1), dtype=\"float32\")\n",
    "dijet_ptoverM = np.empty((1), dtype=\"float32\")\n",
    "gen_dijet_matched = np.empty((1), dtype=\"int32\")\n",
    "\n",
    "outTree.Branch(\"dijet_eta\", dijet_eta, \"dijet_eta/F\")\n",
    "outTree.Branch(\"dijet_phi\", dijet_phi, \"dijet_phi/F\")\n",
    "outTree.Branch(\"dR_jj\", dR_jj, \"dR_jj/F\")\n",
    "outTree.Branch(\"dEta_jj\", dEta_jj, \"dEta_jj/F\")\n",
    "outTree.Branch(\"dPhi_jj\", dPhi_jj, \"dPhi_jj/F\")\n",
    "outTree.Branch(\"dR_j0j2\", dR_jj, \"dR_j0j2/F\")\n",
    "outTree.Branch(\"dEta_j0j2\", dEta_jj, \"dEta_j0j2/F\")\n",
    "outTree.Branch(\"dPhi_j0j2\", dPhi_jj, \"dPhi_j0j2/F\")\n",
    "outTree.Branch(\"dR_j1j2\", dR_jj, \"dR_j1j2/F\")\n",
    "outTree.Branch(\"dEta_j1j2\", dEta_jj, \"dEta_j1j2/F\")\n",
    "outTree.Branch(\"dPhi_j1j2\", dPhi_jj, \"dPhi_j1j2/F\")\n",
    "outTree.Branch(\"jet_eta_0\", jet_eta_0, \"jet_eta_0/F\")\n",
    "outTree.Branch(\"jet_phi_0\", jet_phi_0, \"jet_phi_0/F\")\n",
    "outTree.Branch(\"jet_ptoverm_0\", jet_ptoverm_0, \"jet_ptoverm_0/F\")\n",
    "outTree.Branch(\"jet_eta_1\", jet_eta_1, \"jet_eta_1/F\")\n",
    "outTree.Branch(\"jet_phi_1\", jet_phi_1, \"jet_phi_1/F\")\n",
    "outTree.Branch(\"jet_ptoverm_1\", jet_ptoverm_1, \"jet_ptoverm_1/F\")\n",
    "outTree.Branch(\"jet_eta_2\", jet_eta_2, \"jet_eta_2/F\")\n",
    "outTree.Branch(\"jet_phi_2\", jet_phi_2, \"jet_phi_2/F\")\n",
    "outTree.Branch(\"jet_ptoverm_2\", jet_ptoverm_2, \"jet_ptoverm_2/F\")\n",
    "outTree.Branch(\"dR_jj_j\", dR_jj_j, \"dR_jj_j/F\")\n",
    "outTree.Branch(\"dEta_jj_j\", dEta_jj_j, \"dEta_jj_j/F\")\n",
    "outTree.Branch(\"dPhi_jj_j\", dPhi_jj_j, \"dPhi_jj_j/F\")\n",
    "outTree.Branch(\"jet_ptoverM_0\", jet_ptoverM_0, \"jet_ptoverM_0/F\")\n",
    "outTree.Branch(\"jet_ptoverM_1\", jet_ptoverM_1, \"jet_ptoverM_1/F\")\n",
    "outTree.Branch(\"jet_ptoverM_2\", jet_ptoverM_2, \"jet_ptoverM_2/F\")\n",
    "outTree.Branch(\"dijet_ptoverM\", dijet_ptoverM, \"dijet_ptoverM/F\")\n",
    "outTree.Branch(\"gen_dijet_matched\", gen_dijet_matched, \"gen_dijet_matched/I\")\n",
    "\n",
    "n_all = inTree.GetEntries()\n",
    "array_ismatch = inTree.AsMatrix(columns=[\"gen_dijet_matched\"])\n",
    "array_matched_3 = np.where((array_ismatch.ravel() == 3))[0]\n",
    "array_matched_2 = np.where((array_ismatch.ravel() == 2))[0]\n",
    "array_matched_1 = np.where((array_ismatch.ravel() == 1))[0]\n",
    "array_matched_0 = np.where((array_ismatch.ravel() == 0))[0]\n",
    "n_matched_3 = np.shape(array_matched_3)[0]\n",
    "n_matched_2 = np.shape(array_matched_2)[0]\n",
    "n_matched_1 = np.shape(array_matched_1)[0]\n",
    "n_matched_0 = np.shape(array_matched_0)[0]\n",
    "print(n_matched_3, n_matched_2, n_matched_1, n_matched_0)\n",
    "scale_3 = (n_matched_3+n_matched_2+n_matched_1+n_matched_0) / n_matched_3\n",
    "scale_2 = (n_matched_3+n_matched_2+n_matched_1+n_matched_0) / n_matched_2\n",
    "scale_1 = (n_matched_3+n_matched_2+n_matched_1+n_matched_0) / n_matched_1\n",
    "scale_0 = (n_matched_3+n_matched_2+n_matched_1+n_matched_0) / n_matched_0\n",
    "ratio_3 = scale_3 / (scale_3+scale_2+scale_1+scale_0)\n",
    "ratio_2 = scale_2 / (scale_3+scale_2+scale_1+scale_0)\n",
    "ratio_1 = scale_1 / (scale_3+scale_2+scale_1+scale_0)\n",
    "ratio_0 = scale_0 / (scale_3+scale_2+scale_1+scale_0)\n",
    "\n",
    "from ROOT import TRandom3\n",
    "rand_gen = TRandom3()\n",
    "count3 = 0\n",
    "count2 = 0\n",
    "count1 = 0\n",
    "count0 = 0\n",
    "for i, event in enumerate(inTree):\n",
    "    if i%10000 == 0:\n",
    "        print(\"Processing: \",i)\n",
    "    isFill = False\n",
    "    random = rand_gen.Uniform(0,1)\n",
    "    if(event.gen_dijet_matched == 3):\n",
    "        if random < ratio_3: \n",
    "            gen_dijet_matched[0] = 3\n",
    "            isFill = True\n",
    "            count3 += 1\n",
    "    elif(event.gen_dijet_matched == 2):\n",
    "        if random < ratio_2: \n",
    "            gen_dijet_matched[0] = 2\n",
    "            isFill = True\n",
    "            count2 += 1\n",
    "    elif(event.gen_dijet_matched == 1):\n",
    "        if random < ratio_1: \n",
    "            gen_dijet_matched[0] = 1\n",
    "            isFill = True\n",
    "            count1 += 1\n",
    "    elif(event.gen_dijet_matched == 0):\n",
    "        if random < ratio_0: \n",
    "            gen_dijet_matched[0] = 0\n",
    "            isFill = True\n",
    "            count0 += 1\n",
    "    if not isFill:\n",
    "        continue\n",
    "    dijet_eta[0] = event.dijet_eta\n",
    "    dijet_phi[0] = event.dijet_phi\n",
    "    dR_jj[0] = event.dR_jj\n",
    "    dEta_jj[0] = event.dEta_jj\n",
    "    dPhi_jj[0] = event.dPhi_jj\n",
    "    dR_j0j2[0] = event.dR_j0j2\n",
    "    dEta_j0j2[0] = event.dEta_j0j2\n",
    "    dPhi_j0j2[0] = event.dPhi_j0j2\n",
    "    dR_j1j2[0] = event.dR_j1j2\n",
    "    dEta_j1j2[0] = event.dEta_j1j2\n",
    "    dPhi_j1j2[0] = event.dPhi_j1j2\n",
    "    jet_eta_0[0] = event.jet_eta_0\n",
    "    jet_phi_0[0] = event.jet_phi_0\n",
    "    jet_ptoverm_0[0] = event.jet_ptoverm_0\n",
    "    jet_eta_1[0] = event.jet_eta_1\n",
    "    jet_phi_1[0] = event.jet_phi_1\n",
    "    jet_ptoverm_1[0] = event.jet_ptoverm_1\n",
    "    jet_eta_2[0] = event.jet_eta_2\n",
    "    jet_phi_2[0] = event.jet_phi_2\n",
    "    jet_ptoverm_2[0] = event.jet_ptoverm_2\n",
    "    dR_jj_j[0] = event.dR_jj_j\n",
    "    dEta_jj_j[0] = event.dEta_jj_j\n",
    "    dPhi_jj_j[0] = event.dPhi_jj_j\n",
    "    jet_ptoverM_0[0] = event.jet_ptoverM_0\n",
    "    jet_ptoverM_1[0] = event.jet_ptoverM_1\n",
    "    jet_ptoverM_2[0] = event.jet_ptoverM_2\n",
    "    dijet_ptoverM[0] = event.dijet_ptoverM\n",
    "    outTree.Fill()\n",
    "df_1 = pd.DataFrame()\n",
    "label_1 = pd.DataFrame()\n",
    "df_1, label_1 = make_df(outTree)\n",
    "X_train_1, X_test_1, y_train_1, y_test_1 = train_test_split(df_1, label_1, test_size=0.33, random_state=1, stratify=label_1)\n",
    "print(count3, count2, count1, count0)"
   ]
  },
  {
   "cell_type": "code",
   "execution_count": 42,
   "metadata": {},
   "outputs": [
    {
     "data": {
      "text/html": [
       "<div>\n",
       "<style scoped>\n",
       "    .dataframe tbody tr th:only-of-type {\n",
       "        vertical-align: middle;\n",
       "    }\n",
       "\n",
       "    .dataframe tbody tr th {\n",
       "        vertical-align: top;\n",
       "    }\n",
       "\n",
       "    .dataframe thead th {\n",
       "        text-align: right;\n",
       "    }\n",
       "</style>\n",
       "<table border=\"1\" class=\"dataframe\">\n",
       "  <thead>\n",
       "    <tr style=\"text-align: right;\">\n",
       "      <th></th>\n",
       "      <th>dijet_eta</th>\n",
       "      <th>dijet_phi</th>\n",
       "      <th>dR_jj</th>\n",
       "      <th>dEta_jj</th>\n",
       "      <th>dPhi_jj</th>\n",
       "      <th>dR_j0j2</th>\n",
       "      <th>dEta_j0j2</th>\n",
       "      <th>dPhi_j0j2</th>\n",
       "      <th>dR_j1j2</th>\n",
       "      <th>dEta_j1j2</th>\n",
       "      <th>...</th>\n",
       "      <th>jet_eta_2</th>\n",
       "      <th>jet_phi_2</th>\n",
       "      <th>jet_ptoverm_2</th>\n",
       "      <th>dR_jj_j</th>\n",
       "      <th>dEta_jj_j</th>\n",
       "      <th>dPhi_jj_j</th>\n",
       "      <th>jet_ptoverM_0</th>\n",
       "      <th>jet_ptoverM_1</th>\n",
       "      <th>jet_ptoverM_2</th>\n",
       "      <th>dijet_ptoverM</th>\n",
       "    </tr>\n",
       "  </thead>\n",
       "  <tbody>\n",
       "    <tr>\n",
       "      <th>11292</th>\n",
       "      <td>1.703848</td>\n",
       "      <td>0.632052</td>\n",
       "      <td>2.925543</td>\n",
       "      <td>0.388306</td>\n",
       "      <td>2.899658</td>\n",
       "      <td>2.925543</td>\n",
       "      <td>0.388306</td>\n",
       "      <td>2.899658</td>\n",
       "      <td>2.925543</td>\n",
       "      <td>0.388306</td>\n",
       "      <td>...</td>\n",
       "      <td>1.546631</td>\n",
       "      <td>-2.593750</td>\n",
       "      <td>0.400690</td>\n",
       "      <td>3.061423</td>\n",
       "      <td>0.157217</td>\n",
       "      <td>3.057383</td>\n",
       "      <td>0.427245</td>\n",
       "      <td>0.236950</td>\n",
       "      <td>0.259176</td>\n",
       "      <td>0.205204</td>\n",
       "    </tr>\n",
       "    <tr>\n",
       "      <th>24706</th>\n",
       "      <td>-1.337440</td>\n",
       "      <td>2.475800</td>\n",
       "      <td>3.340356</td>\n",
       "      <td>2.288940</td>\n",
       "      <td>2.432843</td>\n",
       "      <td>3.340356</td>\n",
       "      <td>2.288940</td>\n",
       "      <td>2.432843</td>\n",
       "      <td>3.340356</td>\n",
       "      <td>2.288940</td>\n",
       "      <td>...</td>\n",
       "      <td>-0.220642</td>\n",
       "      <td>-2.352539</td>\n",
       "      <td>0.201355</td>\n",
       "      <td>1.834071</td>\n",
       "      <td>1.116798</td>\n",
       "      <td>1.454847</td>\n",
       "      <td>0.295847</td>\n",
       "      <td>0.207581</td>\n",
       "      <td>0.169554</td>\n",
       "      <td>0.193313</td>\n",
       "    </tr>\n",
       "    <tr>\n",
       "      <th>5189</th>\n",
       "      <td>0.792278</td>\n",
       "      <td>1.970798</td>\n",
       "      <td>2.325253</td>\n",
       "      <td>0.426697</td>\n",
       "      <td>2.285767</td>\n",
       "      <td>2.325253</td>\n",
       "      <td>0.426697</td>\n",
       "      <td>2.285767</td>\n",
       "      <td>2.325253</td>\n",
       "      <td>0.426697</td>\n",
       "      <td>...</td>\n",
       "      <td>1.125000</td>\n",
       "      <td>-1.397949</td>\n",
       "      <td>0.415869</td>\n",
       "      <td>2.933369</td>\n",
       "      <td>0.332722</td>\n",
       "      <td>2.914438</td>\n",
       "      <td>0.365029</td>\n",
       "      <td>0.301655</td>\n",
       "      <td>0.259405</td>\n",
       "      <td>0.282601</td>\n",
       "    </tr>\n",
       "    <tr>\n",
       "      <th>9132</th>\n",
       "      <td>-0.004534</td>\n",
       "      <td>2.768947</td>\n",
       "      <td>1.849057</td>\n",
       "      <td>0.847229</td>\n",
       "      <td>1.643537</td>\n",
       "      <td>1.849057</td>\n",
       "      <td>0.847229</td>\n",
       "      <td>1.643537</td>\n",
       "      <td>1.849057</td>\n",
       "      <td>0.847229</td>\n",
       "      <td>...</td>\n",
       "      <td>-0.409485</td>\n",
       "      <td>-0.453003</td>\n",
       "      <td>0.714295</td>\n",
       "      <td>3.087903</td>\n",
       "      <td>0.404951</td>\n",
       "      <td>3.061235</td>\n",
       "      <td>0.358642</td>\n",
       "      <td>0.222798</td>\n",
       "      <td>0.346735</td>\n",
       "      <td>0.408226</td>\n",
       "    </tr>\n",
       "    <tr>\n",
       "      <th>18728</th>\n",
       "      <td>0.190894</td>\n",
       "      <td>-0.491381</td>\n",
       "      <td>2.829003</td>\n",
       "      <td>1.288940</td>\n",
       "      <td>2.518311</td>\n",
       "      <td>2.829003</td>\n",
       "      <td>1.288940</td>\n",
       "      <td>2.518311</td>\n",
       "      <td>2.829003</td>\n",
       "      <td>1.288940</td>\n",
       "      <td>...</td>\n",
       "      <td>0.986206</td>\n",
       "      <td>2.566895</td>\n",
       "      <td>0.309148</td>\n",
       "      <td>3.159996</td>\n",
       "      <td>0.795312</td>\n",
       "      <td>3.058276</td>\n",
       "      <td>0.293342</td>\n",
       "      <td>0.292135</td>\n",
       "      <td>0.213120</td>\n",
       "      <td>0.179523</td>\n",
       "    </tr>\n",
       "  </tbody>\n",
       "</table>\n",
       "<p>5 rows × 27 columns</p>\n",
       "</div>"
      ],
      "text/plain": [
       "       dijet_eta  dijet_phi     dR_jj   dEta_jj   dPhi_jj   dR_j0j2  \\\n",
       "11292   1.703848   0.632052  2.925543  0.388306  2.899658  2.925543   \n",
       "24706  -1.337440   2.475800  3.340356  2.288940  2.432843  3.340356   \n",
       "5189    0.792278   1.970798  2.325253  0.426697  2.285767  2.325253   \n",
       "9132   -0.004534   2.768947  1.849057  0.847229  1.643537  1.849057   \n",
       "18728   0.190894  -0.491381  2.829003  1.288940  2.518311  2.829003   \n",
       "\n",
       "       dEta_j0j2  dPhi_j0j2   dR_j1j2  dEta_j1j2  ...  jet_eta_2  jet_phi_2  \\\n",
       "11292   0.388306   2.899658  2.925543   0.388306  ...   1.546631  -2.593750   \n",
       "24706   2.288940   2.432843  3.340356   2.288940  ...  -0.220642  -2.352539   \n",
       "5189    0.426697   2.285767  2.325253   0.426697  ...   1.125000  -1.397949   \n",
       "9132    0.847229   1.643537  1.849057   0.847229  ...  -0.409485  -0.453003   \n",
       "18728   1.288940   2.518311  2.829003   1.288940  ...   0.986206   2.566895   \n",
       "\n",
       "       jet_ptoverm_2   dR_jj_j  dEta_jj_j  dPhi_jj_j  jet_ptoverM_0  \\\n",
       "11292       0.400690  3.061423   0.157217   3.057383       0.427245   \n",
       "24706       0.201355  1.834071   1.116798   1.454847       0.295847   \n",
       "5189        0.415869  2.933369   0.332722   2.914438       0.365029   \n",
       "9132        0.714295  3.087903   0.404951   3.061235       0.358642   \n",
       "18728       0.309148  3.159996   0.795312   3.058276       0.293342   \n",
       "\n",
       "       jet_ptoverM_1  jet_ptoverM_2  dijet_ptoverM  \n",
       "11292       0.236950       0.259176       0.205204  \n",
       "24706       0.207581       0.169554       0.193313  \n",
       "5189        0.301655       0.259405       0.282601  \n",
       "9132        0.222798       0.346735       0.408226  \n",
       "18728       0.292135       0.213120       0.179523  \n",
       "\n",
       "[5 rows x 27 columns]"
      ]
     },
     "metadata": {},
     "output_type": "display_data"
    },
    {
     "data": {
      "text/html": [
       "<div>\n",
       "<style scoped>\n",
       "    .dataframe tbody tr th:only-of-type {\n",
       "        vertical-align: middle;\n",
       "    }\n",
       "\n",
       "    .dataframe tbody tr th {\n",
       "        vertical-align: top;\n",
       "    }\n",
       "\n",
       "    .dataframe thead th {\n",
       "        text-align: right;\n",
       "    }\n",
       "</style>\n",
       "<table border=\"1\" class=\"dataframe\">\n",
       "  <thead>\n",
       "    <tr style=\"text-align: right;\">\n",
       "      <th></th>\n",
       "      <th>gen_dijet_matched</th>\n",
       "    </tr>\n",
       "  </thead>\n",
       "  <tbody>\n",
       "    <tr>\n",
       "      <th>11292</th>\n",
       "      <td>3.0</td>\n",
       "    </tr>\n",
       "    <tr>\n",
       "      <th>24706</th>\n",
       "      <td>1.0</td>\n",
       "    </tr>\n",
       "    <tr>\n",
       "      <th>5189</th>\n",
       "      <td>2.0</td>\n",
       "    </tr>\n",
       "    <tr>\n",
       "      <th>9132</th>\n",
       "      <td>1.0</td>\n",
       "    </tr>\n",
       "    <tr>\n",
       "      <th>18728</th>\n",
       "      <td>3.0</td>\n",
       "    </tr>\n",
       "  </tbody>\n",
       "</table>\n",
       "</div>"
      ],
      "text/plain": [
       "       gen_dijet_matched\n",
       "11292                3.0\n",
       "24706                1.0\n",
       "5189                 2.0\n",
       "9132                 1.0\n",
       "18728                3.0"
      ]
     },
     "metadata": {},
     "output_type": "display_data"
    },
    {
     "name": "stdout",
     "output_type": "stream",
     "text": [
      "(16683,) (1, 4151)\n"
     ]
    }
   ],
   "source": [
    "# This cell is intended for the single traning\n",
    "df_train = X_train_1\n",
    "label_train = y_train_1\n",
    "df_test = X_test_1\n",
    "label_test = y_test_1\n",
    "display(df_train.head())\n",
    "display(label_train.head())\n",
    "label_arr = np.array(label_train.iloc[1:,:]).ravel()\n",
    "all_N = np.shape(label_arr)\n",
    "sig_N = np.shape(np.where(label_arr == 1))\n",
    "print(all_N, sig_N)"
   ]
  },
  {
   "cell_type": "code",
   "execution_count": null,
   "metadata": {},
   "outputs": [],
   "source": [
    "# This cell is intended for mix traning using two samples\n",
    "N2train = min(X_train_1.shape[0], X_train_2.shape[0])\n",
    "print(N2train)\n",
    "df_train = pd.concat([X_train_1.iloc[:N2train, :], X_train_2.iloc[:N2train, :]])\n",
    "label_train = pd.concat([y_train_1.iloc[:N2train, :], y_train_2.iloc[:N2train, :]])\n",
    "print(df_train.shape[0])\n",
    "N2test = min(X_test_1.shape[0], X_test_2.shape[0])\n",
    "print(N2test)\n",
    "df_test = pd.concat([X_test_1.iloc[:N2test, :], X_test_2.iloc[:N2test, :]])\n",
    "label_test = pd.concat([y_test_1.iloc[:N2test, :], y_test_2.iloc[:N2test, :]])\n",
    "print(df_test.shape[0])"
   ]
  },
  {
   "cell_type": "code",
   "execution_count": 16,
   "metadata": {
    "scrolled": true
   },
   "outputs": [
    {
     "name": "stdout",
     "output_type": "stream",
     "text": [
      "['dijet_eta', 'dijet_phi', 'dR_jj', 'dEta_jj', 'dPhi_jj', 'dR_j0j2', 'dEta_j0j2', 'dPhi_j0j2', 'dR_j1j2', 'dEta_j1j2', 'dPhi_j1j2', 'jet_eta_0', 'jet_phi_0', 'jet_ptoverm_0', 'jet_eta_1', 'jet_phi_1', 'jet_ptoverm_1', 'jet_eta_2', 'jet_phi_2', 'jet_ptoverm_2', 'dR_jj_j', 'dEta_jj_j', 'dPhi_jj_j', 'jet_ptoverM_0', 'jet_ptoverM_1', 'jet_ptoverM_2', 'dijet_ptoverM']\n"
     ]
    },
    {
     "data": {
      "text/html": [
       "<div>\n",
       "<style scoped>\n",
       "    .dataframe tbody tr th:only-of-type {\n",
       "        vertical-align: middle;\n",
       "    }\n",
       "\n",
       "    .dataframe tbody tr th {\n",
       "        vertical-align: top;\n",
       "    }\n",
       "\n",
       "    .dataframe thead th {\n",
       "        text-align: right;\n",
       "    }\n",
       "</style>\n",
       "<table border=\"1\" class=\"dataframe\">\n",
       "  <thead>\n",
       "    <tr style=\"text-align: right;\">\n",
       "      <th></th>\n",
       "      <th>PC1</th>\n",
       "      <th>PC2</th>\n",
       "      <th>gen_dijet_matched</th>\n",
       "    </tr>\n",
       "  </thead>\n",
       "  <tbody>\n",
       "    <tr>\n",
       "      <th>0</th>\n",
       "      <td>-0.897631</td>\n",
       "      <td>0.475155</td>\n",
       "      <td>3.0</td>\n",
       "    </tr>\n",
       "    <tr>\n",
       "      <th>1</th>\n",
       "      <td>-0.961123</td>\n",
       "      <td>-0.150083</td>\n",
       "      <td>3.0</td>\n",
       "    </tr>\n",
       "    <tr>\n",
       "      <th>2</th>\n",
       "      <td>3.797401</td>\n",
       "      <td>-0.452220</td>\n",
       "      <td>1.0</td>\n",
       "    </tr>\n",
       "    <tr>\n",
       "      <th>3</th>\n",
       "      <td>-2.331935</td>\n",
       "      <td>-0.395023</td>\n",
       "      <td>2.0</td>\n",
       "    </tr>\n",
       "    <tr>\n",
       "      <th>4</th>\n",
       "      <td>1.022363</td>\n",
       "      <td>-0.994292</td>\n",
       "      <td>2.0</td>\n",
       "    </tr>\n",
       "  </tbody>\n",
       "</table>\n",
       "</div>"
      ],
      "text/plain": [
       "        PC1       PC2  gen_dijet_matched\n",
       "0 -0.897631  0.475155                3.0\n",
       "1 -0.961123 -0.150083                3.0\n",
       "2  3.797401 -0.452220                1.0\n",
       "3 -2.331935 -0.395023                2.0\n",
       "4  1.022363 -0.994292                2.0"
      ]
     },
     "metadata": {},
     "output_type": "display_data"
    },
    {
     "data": {
      "text/plain": [
       "dR_j1j2    0.327174\n",
       "dR_j0j2    0.327174\n",
       "dR_jj      0.327174\n",
       "dtype: float64"
      ]
     },
     "metadata": {},
     "output_type": "display_data"
    },
    {
     "data": {
      "text/plain": [
       "dEta_jj      0.44579\n",
       "dEta_j0j2    0.44579\n",
       "dEta_j1j2    0.44579\n",
       "dtype: float64"
      ]
     },
     "metadata": {},
     "output_type": "display_data"
    },
    {
     "data": {
      "text/plain": [
       "dR_jj_j      0.570934\n",
       "dEta_jj_j    0.530218\n",
       "dijet_eta    0.300462\n",
       "dtype: float64"
      ]
     },
     "metadata": {},
     "output_type": "display_data"
    },
    {
     "data": {
      "text/plain": [
       "dijet_eta    0.535632\n",
       "jet_eta_0    0.435641\n",
       "jet_eta_1    0.338131\n",
       "dtype: float64"
      ]
     },
     "metadata": {},
     "output_type": "display_data"
    },
    {
     "data": {
      "text/plain": [
       "jet_phi_0    0.510132\n",
       "dijet_phi    0.499331\n",
       "jet_phi_2    0.431427\n",
       "dtype: float64"
      ]
     },
     "metadata": {},
     "output_type": "display_data"
    },
    {
     "data": {
      "text/plain": [
       "dPhi_jj_j        0.652322\n",
       "jet_ptoverM_0    0.386928\n",
       "jet_ptoverM_1    0.347509\n",
       "dtype: float64"
      ]
     },
     "metadata": {},
     "output_type": "display_data"
    },
    {
     "data": {
      "text/plain": [
       "jet_phi_1    0.890128\n",
       "jet_phi_2    0.351143\n",
       "dijet_phi    0.165077\n",
       "dtype: float64"
      ]
     },
     "metadata": {},
     "output_type": "display_data"
    },
    {
     "data": {
      "text/plain": [
       "jet_eta_2    0.653159\n",
       "jet_eta_1    0.635767\n",
       "jet_eta_0    0.350569\n",
       "dtype: float64"
      ]
     },
     "metadata": {},
     "output_type": "display_data"
    },
    {
     "data": {
      "text/plain": [
       "jet_eta_2    0.687615\n",
       "jet_eta_0    0.489528\n",
       "jet_eta_1    0.452124\n",
       "dtype: float64"
      ]
     },
     "metadata": {},
     "output_type": "display_data"
    },
    {
     "data": {
      "text/plain": [
       "jet_ptoverM_1    0.493292\n",
       "jet_ptoverm_0    0.414597\n",
       "dPhi_jj_j        0.405592\n",
       "dtype: float64"
      ]
     },
     "metadata": {},
     "output_type": "display_data"
    },
    {
     "data": {
      "text/plain": [
       "jet_ptoverM_2    0.548901\n",
       "jet_ptoverM_0    0.429317\n",
       "dijet_ptoverM    0.377266\n",
       "dtype: float64"
      ]
     },
     "metadata": {},
     "output_type": "display_data"
    },
    {
     "data": {
      "text/plain": [
       "jet_phi_2    0.778766\n",
       "dijet_phi    0.426271\n",
       "jet_phi_0    0.347254\n",
       "dtype: float64"
      ]
     },
     "metadata": {},
     "output_type": "display_data"
    },
    {
     "data": {
      "text/plain": [
       "jet_ptoverm_1    0.523112\n",
       "jet_ptoverm_0    0.407062\n",
       "jet_ptoverM_2    0.329602\n",
       "dtype: float64"
      ]
     },
     "metadata": {},
     "output_type": "display_data"
    },
    {
     "data": {
      "image/png": "[encoded data removed]",
      "text/plain": [
       "<Figure size 1440x720 with 1 Axes>"
      ]
     },
     "metadata": {
      "needs_background": "light"
     },
     "output_type": "display_data"
    },
    {
     "data": {
      "image/png": "[encoded data removed]",
      "text/plain": [
       "<Figure size 576x576 with 1 Axes>"
      ]
     },
     "metadata": {
      "needs_background": "light"
     },
     "output_type": "display_data"
    }
   ],
   "source": [
    "# This cell is intended for PCA analysis, can be run seperately from ML traning\n",
    "variables = [var for var in df_1.columns[:len(df_1.columns)]]\n",
    "print(variables)\n",
    "scaled_df = preprocessing.scale(df_1)\n",
    "pca = PCA(0.95)\n",
    "pca.fit(scaled_df)\n",
    "PCA_df = pca.transform(scaled_df)\n",
    "PCA_df = pd.DataFrame(data = PCA_df[:,:2],columns = [\"PC1\",\"PC2\"])\n",
    "PCA_df_final = pd.concat([PCA_df,label_1] ,axis = 1)\n",
    "display(PCA_df_final.head())\n",
    "# Calculate percentage variation\n",
    "per_var = np.round(pca.explained_variance_ratio_ * 100, decimals = 1)\n",
    "# Calculate loading scores, determine best variables of each PCs\n",
    "for i in range(0, len(per_var)):\n",
    "    loading_scores = pd.Series(pca.components_[i], index=variables)\n",
    "    loading_scores = loading_scores.abs().sort_values(ascending=False)\n",
    "    display(loading_scores[:3])\n",
    "labels = [\"PC\" + str(x) for x in range(1, len(per_var)+1)]\n",
    "plt.figure(figsize=(20,10))\n",
    "plt.bar(x=range(1, len(per_var)+1), height=per_var, tick_label=labels)\n",
    "plt.ylabel(\"% of explained variance\")\n",
    "plt.xlabel(\"PC\")\n",
    "plt.xticks(rotation=270)\n",
    "plt.show()\n",
    "# display(pca.components_)\n",
    "\n",
    "fig = plt.figure(figsize = (8,8))\n",
    "ax = fig.add_subplot(1,1,1) \n",
    "ax.set_xlabel('Principal Component 1', fontsize = 15)\n",
    "ax.set_ylabel('Principal Component 2', fontsize = 15)\n",
    "ax.set_title('2 component PCA', fontsize = 20)\n",
    "targets = [0,1]\n",
    "colors = [\"b\",\"r\"]\n",
    "for target, color in zip(targets,colors):\n",
    "    indicesToKeep = PCA_df_final[\"gen_dijet_matched\"] == target\n",
    "    ax.scatter(PCA_df_final.loc[indicesToKeep, \"PC1\"],\n",
    "               PCA_df_final.loc[indicesToKeep, \"PC2\"],\n",
    "               c = color,\n",
    "               s = 50)\n",
    "ax.legend(targets)\n",
    "ax.grid()"
   ]
  },
  {
   "cell_type": "code",
   "execution_count": 43,
   "metadata": {
    "scrolled": false
   },
   "outputs": [
    {
     "data": {
      "text/plain": [
       "AdaBoostRegressor(base_estimator=DecisionTreeRegressor(max_depth=4),\n",
       "                  n_estimators=200, random_state=1)"
      ]
     },
     "execution_count": 43,
     "metadata": {},
     "output_type": "execute_result"
    }
   ],
   "source": [
    "# scaler = StandardScaler()\n",
    "# scaler.fit(X_train)\n",
    "# X_train = scaler.transform(X_train)\n",
    "# clf = MLPClassifier(solver='adam',hidden_layer_sizes=(20,20),random_state=1)\n",
    "clf = AdaBoostRegressor(DecisionTreeRegressor(max_depth=4),n_estimators=200, random_state=1)\n",
    "clf.fit(df_train, label_train.values.ravel())\n",
    "# Score the fit using the pure QCD or Signal data\n",
    "# X_test = scaler.transform(X_test)\n",
    "# print(clf.score(X_test,y_test.values.ravel()))"
   ]
  },
  {
   "cell_type": "code",
   "execution_count": 44,
   "metadata": {
    "scrolled": false
   },
   "outputs": [
    {
     "name": "stdout",
     "output_type": "stream",
     "text": [
      "Number of signals 3 for testing:  2076\n",
      "Number of signals 2 for testing:  2057\n",
      "Number of backgrounds 1 for testing:  2045\n",
      "Number of backgrounds 0 for testing:  2040\n",
      "Number of signals 3 for testing:  4215\n",
      "Number of signals 2 for testing:  4175\n",
      "Number of backgrounds 1 for testing:  4151\n",
      "Number of backgrounds 0 for testing:  4143\n"
     ]
    },
    {
     "data": {
      "image/png": "[encoded data removed]",
      "text/plain": [
       "<Figure size 864x576 with 1 Axes>"
      ]
     },
     "metadata": {
      "needs_background": "light"
     },
     "output_type": "display_data"
    },
    {
     "data": {
      "image/png": "[encoded data removed]",
      "text/plain": [
       "<Figure size 864x576 with 1 Axes>"
      ]
     },
     "metadata": {
      "needs_background": "light"
     },
     "output_type": "display_data"
    }
   ],
   "source": [
    "eval_regreesion(df_test, label_test, clf)\n",
    "eval_regreesion(df_train, label_train, clf)"
   ]
  },
  {
   "cell_type": "code",
   "execution_count": 45,
   "metadata": {},
   "outputs": [
    {
     "data": {
      "text/plain": [
       "['BDT_model_matching_0_1_2_3.joblib']"
      ]
     },
     "execution_count": 45,
     "metadata": {},
     "output_type": "execute_result"
    }
   ],
   "source": [
    "from joblib import dump, load\n",
    "dump(clf, 'BDT_model_matching_0_1_2_3.joblib') "
   ]
  },
  {
   "cell_type": "code",
   "execution_count": 40,
   "metadata": {},
   "outputs": [
    {
     "name": "stdout",
     "output_type": "stream",
     "text": [
      "22946 18461 81129 25979\n",
      "Processing:  0\n",
      "Processing:  10000\n",
      "Processing:  20000\n",
      "Processing:  30000\n",
      "Processing:  40000\n",
      "Processing:  50000\n",
      "Processing:  60000\n",
      "Processing:  70000\n",
      "Processing:  80000\n",
      "Processing:  90000\n",
      "Processing:  100000\n",
      "Processing:  110000\n",
      "Processing:  120000\n",
      "Processing:  130000\n",
      "Processing:  140000\n",
      "Number of signals 3 for testing:  6663\n",
      "Number of signals 2 for testing:  6727\n",
      "Number of backgrounds 1 for testing:  6689\n",
      "Number of backgrounds 0 for testing:  6736\n"
     ]
    },
    {
     "data": {
      "image/png": "[encoded data removed]",
      "text/plain": [
       "<Figure size 864x576 with 1 Axes>"
      ]
     },
     "metadata": {
      "needs_background": "light"
     },
     "output_type": "display_data"
    }
   ],
   "source": [
    "# Evaluation using another signal sample\n",
    "sample = \"M1-7000_R-0p3\"\n",
    "tempFile = TFile(f\"{sample}_training.root\",\"RECREATE\")\n",
    "outTree = TTree()\n",
    "inFile = TFile(f\"/home/xyan13/Trijet/TrijetAna/TrijetAna/outputs_3_jets/Res1ToRes2GluTo3Glu_{sample}_ML_study.root\")\n",
    "inTree = inFile.Get(\"Events\")\n",
    "dijet_eta = np.empty((1), dtype=\"float32\")\n",
    "dijet_phi = np.empty((1), dtype=\"float32\")\n",
    "dR_jj = np.empty((1), dtype=\"float32\")\n",
    "dEta_jj = np.empty((1), dtype=\"float32\")\n",
    "dPhi_jj = np.empty((1), dtype=\"float32\")\n",
    "dR_j0j2 = np.empty((1), dtype=\"float32\")\n",
    "dEta_j0j2 = np.empty((1), dtype=\"float32\")\n",
    "dPhi_j0j2 = np.empty((1), dtype=\"float32\")\n",
    "dR_j1j2 = np.empty((1), dtype=\"float32\")\n",
    "dEta_j1j2 = np.empty((1), dtype=\"float32\")\n",
    "dPhi_j1j2 = np.empty((1), dtype=\"float32\")\n",
    "jet_eta_0 = np.empty((1), dtype=\"float32\")\n",
    "jet_phi_0 = np.empty((1), dtype=\"float32\")\n",
    "jet_ptoverm_0 = np.empty((1), dtype=\"float32\")\n",
    "jet_eta_1 = np.empty((1), dtype=\"float32\")\n",
    "jet_phi_1 = np.empty((1), dtype=\"float32\")\n",
    "jet_ptoverm_1 = np.empty((1), dtype=\"float32\")\n",
    "jet_eta_2 = np.empty((1), dtype=\"float32\")\n",
    "jet_phi_2 = np.empty((1), dtype=\"float32\")\n",
    "jet_ptoverm_2 = np.empty((1), dtype=\"float32\")\n",
    "dR_jj_j = np.empty((1), dtype=\"float32\")\n",
    "dEta_jj_j = np.empty((1), dtype=\"float32\")\n",
    "dPhi_jj_j = np.empty((1), dtype=\"float32\")\n",
    "jet_ptoverM_0 = np.empty((1), dtype=\"float32\")\n",
    "jet_ptoverM_1 = np.empty((1), dtype=\"float32\")\n",
    "jet_ptoverM_2 = np.empty((1), dtype=\"float32\")\n",
    "dijet_ptoverM = np.empty((1), dtype=\"float32\")\n",
    "gen_dijet_matched = np.empty((1), dtype=\"int32\")\n",
    "\n",
    "outTree.Branch(\"dijet_eta\", dijet_eta, \"dijet_eta/F\")\n",
    "outTree.Branch(\"dijet_phi\", dijet_phi, \"dijet_phi/F\")\n",
    "outTree.Branch(\"dR_jj\", dR_jj, \"dR_jj/F\")\n",
    "outTree.Branch(\"dEta_jj\", dEta_jj, \"dEta_jj/F\")\n",
    "outTree.Branch(\"dPhi_jj\", dPhi_jj, \"dPhi_jj/F\")\n",
    "outTree.Branch(\"dR_j0j2\", dR_jj, \"dR_j0j2/F\")\n",
    "outTree.Branch(\"dEta_j0j2\", dEta_jj, \"dEta_j0j2/F\")\n",
    "outTree.Branch(\"dPhi_j0j2\", dPhi_jj, \"dPhi_j0j2/F\")\n",
    "outTree.Branch(\"dR_j1j2\", dR_jj, \"dR_j1j2/F\")\n",
    "outTree.Branch(\"dEta_j1j2\", dEta_jj, \"dEta_j1j2/F\")\n",
    "outTree.Branch(\"dPhi_j1j2\", dPhi_jj, \"dPhi_j1j2/F\")\n",
    "outTree.Branch(\"jet_eta_0\", jet_eta_0, \"jet_eta_0/F\")\n",
    "outTree.Branch(\"jet_phi_0\", jet_phi_0, \"jet_phi_0/F\")\n",
    "outTree.Branch(\"jet_ptoverm_0\", jet_ptoverm_0, \"jet_ptoverm_0/F\")\n",
    "outTree.Branch(\"jet_eta_1\", jet_eta_1, \"jet_eta_1/F\")\n",
    "outTree.Branch(\"jet_phi_1\", jet_phi_1, \"jet_phi_1/F\")\n",
    "outTree.Branch(\"jet_ptoverm_1\", jet_ptoverm_1, \"jet_ptoverm_1/F\")\n",
    "outTree.Branch(\"jet_eta_2\", jet_eta_2, \"jet_eta_2/F\")\n",
    "outTree.Branch(\"jet_phi_2\", jet_phi_2, \"jet_phi_2/F\")\n",
    "outTree.Branch(\"jet_ptoverm_2\", jet_ptoverm_2, \"jet_ptoverm_2/F\")\n",
    "outTree.Branch(\"dR_jj_j\", dR_jj_j, \"dR_jj_j/F\")\n",
    "outTree.Branch(\"dEta_jj_j\", dEta_jj_j, \"dEta_jj_j/F\")\n",
    "outTree.Branch(\"dPhi_jj_j\", dPhi_jj_j, \"dPhi_jj_j/F\")\n",
    "outTree.Branch(\"jet_ptoverM_0\", jet_ptoverM_0, \"jet_ptoverM_0/F\")\n",
    "outTree.Branch(\"jet_ptoverM_1\", jet_ptoverM_1, \"jet_ptoverM_1/F\")\n",
    "outTree.Branch(\"jet_ptoverM_2\", jet_ptoverM_2, \"jet_ptoverM_2/F\")\n",
    "outTree.Branch(\"dijet_ptoverM\", dijet_ptoverM, \"dijet_ptoverM/F\")\n",
    "outTree.Branch(\"gen_dijet_matched\", gen_dijet_matched, \"gen_dijet_matched/I\")\n",
    "\n",
    "n_all = inTree.GetEntries()\n",
    "array_ismatch = inTree.AsMatrix(columns=[\"gen_dijet_matched\"])\n",
    "array_matched_3 = np.where((array_ismatch.ravel() == 3))[0]\n",
    "array_matched_2 = np.where((array_ismatch.ravel() == 2))[0]\n",
    "array_matched_1 = np.where((array_ismatch.ravel() == 1))[0]\n",
    "array_matched_0 = np.where((array_ismatch.ravel() == 0))[0]\n",
    "n_matched_3 = np.shape(array_matched_3)[0]\n",
    "n_matched_2 = np.shape(array_matched_2)[0]\n",
    "n_matched_1 = np.shape(array_matched_1)[0]\n",
    "n_matched_0 = np.shape(array_matched_0)[0]\n",
    "print(n_matched_3, n_matched_2, n_matched_1, n_matched_0)\n",
    "scale_3 = (n_matched_3+n_matched_2+n_matched_1+n_matched_0) / n_matched_3\n",
    "scale_2 = (n_matched_3+n_matched_2+n_matched_1+n_matched_0) / n_matched_2\n",
    "scale_1 = (n_matched_3+n_matched_2+n_matched_1+n_matched_0) / n_matched_1\n",
    "scale_0 = (n_matched_3+n_matched_2+n_matched_1+n_matched_0) / n_matched_0\n",
    "ratio_3 = scale_3 / (scale_3+scale_2+scale_1+scale_0)\n",
    "ratio_2 = scale_2 / (scale_3+scale_2+scale_1+scale_0)\n",
    "ratio_1 = scale_1 / (scale_3+scale_2+scale_1+scale_0)\n",
    "ratio_0 = scale_0 / (scale_3+scale_2+scale_1+scale_0)\n",
    "\n",
    "from ROOT import TRandom3\n",
    "rand_gen = TRandom3()\n",
    "count3 = 0\n",
    "count2 = 0\n",
    "count1 = 0\n",
    "count0 = 0\n",
    "for i, event in enumerate(inTree):\n",
    "    if i%10000 == 0:\n",
    "        print(\"Processing: \",i)\n",
    "    isFill = False\n",
    "    random = rand_gen.Uniform(0,1)\n",
    "    if(event.gen_dijet_matched == 3):\n",
    "        if random < ratio_3: \n",
    "            gen_dijet_matched[0] = 3\n",
    "            isFill = True\n",
    "            count3 += 1\n",
    "    elif(event.gen_dijet_matched == 2):\n",
    "        if random < ratio_2: \n",
    "            gen_dijet_matched[0] = 2\n",
    "            isFill = True\n",
    "            count2 += 1\n",
    "    elif(event.gen_dijet_matched == 1):\n",
    "        if random < ratio_1: \n",
    "            gen_dijet_matched[0] = 1\n",
    "            isFill = True\n",
    "            count1 += 1\n",
    "    elif(event.gen_dijet_matched == 0):\n",
    "        if random < ratio_0: \n",
    "            gen_dijet_matched[0] = 0\n",
    "            isFill = True\n",
    "            count0 += 1\n",
    "    if not isFill:\n",
    "        continue\n",
    "    dijet_eta[0] = event.dijet_eta\n",
    "    dijet_phi[0] = event.dijet_phi\n",
    "    dR_jj[0] = event.dR_jj\n",
    "    dEta_jj[0] = event.dEta_jj\n",
    "    dPhi_jj[0] = event.dPhi_jj\n",
    "    dR_j0j2[0] = event.dR_j0j2\n",
    "    dEta_j0j2[0] = event.dEta_j0j2\n",
    "    dPhi_j0j2[0] = event.dPhi_j0j2\n",
    "    dR_j1j2[0] = event.dR_j1j2\n",
    "    dEta_j1j2[0] = event.dEta_j1j2\n",
    "    dPhi_j1j2[0] = event.dPhi_j1j2\n",
    "    jet_eta_0[0] = event.jet_eta_0\n",
    "    jet_phi_0[0] = event.jet_phi_0\n",
    "    jet_ptoverm_0[0] = event.jet_ptoverm_0\n",
    "    jet_eta_1[0] = event.jet_eta_1\n",
    "    jet_phi_1[0] = event.jet_phi_1\n",
    "    jet_ptoverm_1[0] = event.jet_ptoverm_1\n",
    "    jet_eta_2[0] = event.jet_eta_2\n",
    "    jet_phi_2[0] = event.jet_phi_2\n",
    "    jet_ptoverm_2[0] = event.jet_ptoverm_2\n",
    "    dR_jj_j[0] = event.dR_jj_j\n",
    "    dEta_jj_j[0] = event.dEta_jj_j\n",
    "    dPhi_jj_j[0] = event.dPhi_jj_j\n",
    "    jet_ptoverM_0[0] = event.jet_ptoverM_0\n",
    "    jet_ptoverM_1[0] = event.jet_ptoverM_1\n",
    "    jet_ptoverM_2[0] = event.jet_ptoverM_2\n",
    "    dijet_ptoverM[0] = event.dijet_ptoverM\n",
    "    outTree.Fill()\n",
    "df_1 = pd.DataFrame()\n",
    "label_1 = pd.DataFrame()\n",
    "df_1, label_1 = make_df(outTree)\n",
    "eval_regreesion(df_1, label_1, clf)"
   ]
  },
  {
   "cell_type": "code",
   "execution_count": null,
   "metadata": {},
   "outputs": [],
   "source": []
  }
 ],
 "metadata": {
  "kernelspec": {
   "display_name": "Python 3",
   "language": "python",
   "name": "python3"
  },
  "language_info": {
   "codemirror_mode": {
    "name": "ipython",
    "version": 3
   },
   "file_extension": ".py",
   "mimetype": "text/x-python",
   "name": "python",
   "nbconvert_exporter": "python",
   "pygments_lexer": "ipython3",
   "version": "3.7.9"
  }
 },
 "nbformat": 4,
 "nbformat_minor": 4
}
