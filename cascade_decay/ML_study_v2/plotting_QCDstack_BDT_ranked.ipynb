{
 "cells": [
  {
   "cell_type": "code",
   "execution_count": 12,
   "metadata": {},
   "outputs": [],
   "source": [
    "import ROOT\n",
    "from ROOT import TFile, TTree, TH1F, TCanvas, TAxis, TLegend, THStack\n",
    "import copy\n",
    "import math\n",
    "ROOT.gStyle.SetOptStat(0)\n",
    "ROOT.disableJSVis()"
   ]
  },
  {
   "cell_type": "code",
   "execution_count": 13,
   "metadata": {
    "scrolled": false
   },
   "outputs": [],
   "source": [
    "def getRangeY(hist):\n",
    "    global y_upper\n",
    "    max_entry = hist.GetMaximum()\n",
    "    if max_entry > y_upper:\n",
    "        y_upper = max_entry * 1.1\n",
    "def setHistOpt(hist, lcolor, lstyle):\n",
    "    hist.SetLineWidth(2)\n",
    "    hist.SetLineColor(lcolor)\n",
    "    hist.SetLineStyle(lstyle)\n",
    "def plot(h_plot, canvas, leg, xtitle, dopt, hlabel):\n",
    "    global y_upper\n",
    "    h_plot.Draw(dopt)\n",
    "    h_plot.GetXaxis().SetTitle(xtitle)\n",
    "    h_plot.GetXaxis().SetTitleOffset(1.2)\n",
    "    h_plot.GetYaxis().SetTitle(\"Events\")\n",
    "    h_plot.SetMinimum(0.01)\n",
    "    h_plot.SetMaximum(y_upper)\n",
    "    leg.AddEntry(h_plot,hlabel)"
   ]
  },
  {
   "cell_type": "code",
   "execution_count": 14,
   "metadata": {},
   "outputs": [],
   "source": [
    "def get_weight(sample):\n",
    "    lumi = 41.53*1000\n",
    "    weight_xsec = {\n",
    "        'QCD_Pt_300to470': lumi*6830/111229780,\n",
    "        'QCD_Pt_470to600': lumi*552.1/27881028,\n",
    "        'QCD_Pt_600to800': lumi*156.5/12807188,\n",
    "        'QCD_Pt_800to1000': lumi*26.28/1906000,\n",
    "        'QCD_Pt_1000to1400': lumi*7.47/1517308,\n",
    "        'QCD_Pt_1400to1800': lumi*0.6484/776000,\n",
    "        'QCD_Pt_1800to2400': lumi*0.08743/856734,\n",
    "        'QCD_Pt_2400to3200': lumi*0.005236/1485988,\n",
    "        'QCD_Pt_3200toInf': lumi*0.0001357/757837,\n",
    "    }\n",
    "    return weight_xsec[sample]"
   ]
  },
  {
   "cell_type": "code",
   "execution_count": 15,
   "metadata": {},
   "outputs": [
    {
     "name": "stdout",
     "output_type": "stream",
     "text": [
      "7.436455332743056e-06\n",
      "Processing: QCD_Pt_3200toInf, m_jj\n",
      "367746.0 6596.12810334749\n",
      "Processing: QCD_Pt_3200toInf, M_jjj\n",
      "367746.0 7221.1685057279765\n",
      "0.0001463343445572912\n",
      "Processing: QCD_Pt_2400to3200, m_jj\n",
      "748151.0 5119.031096029229\n",
      "Processing: QCD_Pt_2400to3200, M_jjj\n",
      "748151.0 5706.149969825903\n",
      "0.004238150814605233\n",
      "Processing: QCD_Pt_1800to2400, m_jj\n",
      "446959.0 3958.6529842745886\n",
      "Processing: QCD_Pt_1800to2400, M_jjj\n",
      "446959.0 4517.4840816835385\n",
      "0.034701097938144326\n",
      "Processing: QCD_Pt_1400to1800, m_jj\n",
      "411380.0 3133.8755068764744\n",
      "Processing: QCD_Pt_1400to1800, M_jjj\n",
      "411380.0 3664.7720718228675\n",
      "0.2044602018838627\n",
      "Processing: QCD_Pt_1000to1400, m_jj\n",
      "789750.0 2344.7370922032364\n",
      "Processing: QCD_Pt_1000to1400, M_jjj\n",
      "789750.0 2834.9374977219218\n",
      "0.5726172088142708\n",
      "Processing: QCD_Pt_800to1000, m_jj\n",
      "954658.0 1863.5727802759461\n",
      "Processing: QCD_Pt_800to1000, M_jjj\n",
      "954658.0 2318.9699936922143\n",
      "0.5074841565533356\n",
      "Processing: QCD_Pt_600to800, m_jj\n",
      "5895760.0 1460.044500209601\n",
      "Processing: QCD_Pt_600to800, M_jjj\n",
      "5895760.0 1876.2815022143402\n",
      "0.822376886533739\n",
      "Processing: QCD_Pt_470to600, m_jj\n",
      "9201414.0 1200.8509363660578\n",
      "Processing: QCD_Pt_470to600, M_jjj\n",
      "9201414.0 1595.3592433186552\n",
      "2.550125514947526\n",
      "Processing: QCD_Pt_300to470, m_jj\n",
      "4500951.0 1063.1159900145633\n",
      "Processing: QCD_Pt_300to470, M_jjj\n",
      "4500951.0 1500.0869175598086\n"
     ]
    }
   ],
   "source": [
    "variable2use = {}\n",
    "variable2use[\"m_jj\"] = {\"title\": \"m_{jj} [GeV]\", \"binning\": 100, \"lb\": 0, \"hb\": 12000}\n",
    "# variable2use[\"dijet_eta\"] = {\"title\": \"#eta_{jj}\", \"binning\": 100, \"lb\": -3, \"hb\": 3}\n",
    "# variable2use[\"dR_jj\"] = {\"title\": \"#Delta R_{jj}\", \"binning\": 100, \"lb\": 0, \"hb\": 6}\n",
    "# variable2use[\"dEta_jj\"] = {\"title\": \"#Delta #eta_{jj}\", \"binning\": 100, \"lb\": 0, \"hb\": 3}\n",
    "# variable2use[\"dPhi_jj\"] = {\"title\": \"#Delta #phi_{jj}\", \"binning\": 100, \"lb\": 0, \"hb\": 3.2}\n",
    "# variable2use[\"dR_j0j2\"] = {\"title\": \"#Delta R_{j0j2}\", \"binning\": 100, \"lb\": 0, \"hb\": 6}\n",
    "# variable2use[\"dEta_j0j2\"] = {\"title\": \"#Delta #eta_{j0j2}\", \"binning\": 100, \"lb\": 0, \"hb\": 3}\n",
    "# variable2use[\"dPhi_j0j2\"] = {\"title\": \"#Delta #phi_{j0j2}\", \"binning\": 100, \"lb\": 0, \"hb\": 3.2}\n",
    "# variable2use[\"dR_j1j2\"] = {\"title\": \"#Delta R_{j1j2}\", \"binning\": 100, \"lb\": 0, \"hb\": 6}\n",
    "# variable2use[\"dEta_j1j2\"] = {\"title\": \"#Delta #eta_{j1j2}\", \"binning\": 100, \"lb\": 0, \"hb\": 3}\n",
    "# variable2use[\"dPhi_j1j2\"] = {\"title\": \"#Delta #phi_{j1j2}\", \"binning\": 100, \"lb\": 0, \"hb\": 3.2}\n",
    "# variable2use[\"jet_eta_0\"] = {\"title\": \"#eta_{j0}\", \"binning\": 100, \"lb\": -3, \"hb\": 3}\n",
    "# variable2use[\"jet_eta_1\"] = {\"title\": \"#eta_{j1}\", \"binning\": 100, \"lb\": -3, \"hb\": 3}\n",
    "# variable2use[\"jet_eta_2\"] = {\"title\": \"#eta_{j2}\", \"binning\": 100, \"lb\": -3, \"hb\": 3}\n",
    "# variable2use[\"jet_ptoverm_0\"] = {\"title\": \"p^{j0}_{T}/m_{jj}\", \"binning\": 100, \"lb\": 0, \"hb\": 3}\n",
    "# variable2use[\"jet_ptoverm_1\"] = {\"title\": \"p^{j1}_{T}/m_{jj}\", \"binning\": 100, \"lb\": 0, \"hb\": 3}\n",
    "# variable2use[\"jet_ptoverm_2\"] = {\"title\": \"p^{j2}_{T}/m_{jj}\", \"binning\": 100, \"lb\": 0, \"hb\": 3}\n",
    "# variable2use[\"dR_jj_j\"] = {\"title\": \"#Delta R_{jj-j}\", \"binning\": 100, \"lb\": 0, \"hb\": 6}\n",
    "# variable2use[\"dEta_jj_j\"] = {\"title\": \"#Delta #eta_{jj-j}\", \"binning\": 100, \"lb\": 0, \"hb\": 3}\n",
    "# variable2use[\"dPhi_jj_j\"] = {\"title\": \"#Delta #phi_{jj-j}\", \"binning\": 100, \"lb\": 0, \"hb\": 3.2}\n",
    "# variable2use[\"jet_ptoverM_0\"] = {\"title\": \"p^{j0}_{T}/M_{jjj}\", \"binning\": 100, \"lb\": 0, \"hb\": 3}\n",
    "# variable2use[\"jet_ptoverM_1\"] = {\"title\": \"p^{j1}_{T}/M_{jjj}\", \"binning\": 100, \"lb\": 0, \"hb\": 3}\n",
    "# variable2use[\"jet_ptoverM_2\"] = {\"title\": \"p^{j2}_{T}/M_{jjj}\", \"binning\": 100, \"lb\": 0, \"hb\": 1}\n",
    "# variable2use[\"dijet_ptoverM\"] = {\"title\": \"p^{jj}_{T}/M_{jjj}\", \"binning\": 100, \"lb\": 0, \"hb\": 1}\n",
    "variable2use[\"M_jjj\"] = {\"title\": \"M_{jjj}\", \"binning\": 100, \"lb\": 0, \"hb\": 15000}\n",
    "\n",
    "hist_dic = {}\n",
    "sample_list = [\"QCD_Pt_300to470\", \"QCD_Pt_470to600\",\"QCD_Pt_600to800\",\"QCD_Pt_800to1000\",\"QCD_Pt_1000to1400\",\"QCD_Pt_1400to1800\", \"QCD_Pt_1800to2400\",\n",
    "               \"QCD_Pt_2400to3200\",\"QCD_Pt_3200toInf\"]\n",
    "sample_list.reverse()\n",
    "\n",
    "file_list = []\n",
    "for i, sample in enumerate(sample_list):\n",
    "    weight = get_weight(sample)\n",
    "    print(weight)\n",
    "    file = TFile.Open(f\"/home/xyan13/Trijet/TrijetAna/TrijetAna/ML_study_v2/training_3TeV_0p07/BDT_ranked_matching_0_1_2_3/{sample}_BDT_Ranking.root\")\n",
    "    file_list.append(file)\n",
    "    tree = file.Get(\"Events\")\n",
    "    hist_dic[sample] = {}\n",
    "    for var, title in variable2use.items():\n",
    "        hist_dic[sample][var] = TH1F(f\"{sample}_{var}\", title[\"title\"], title[\"binning\"], title[\"lb\"], title[\"hb\"])\n",
    "        print(f\"Processing: {sample}, {var}\")\n",
    "        for ievt in range(tree.GetEntries()):\n",
    "            tree.GetEntry(ievt)\n",
    "#             if(tree.score_BDT < 0.65):\n",
    "#                 continue\n",
    "            hist_dic[sample][var].Fill(getattr(tree, var),weight)\n",
    "        print(hist_dic[sample][var].GetEntries(), hist_dic[sample][var].GetMean())\n",
    "        setHistOpt(hist_dic[sample][var], i+1, 1)\n",
    "\n",
    "hist_stack = {}\n",
    "for var in variable2use.keys():\n",
    "    hist_stack[var] = THStack(var,var)\n",
    "    for sample in sample_list:\n",
    "         hist_stack[var].Add(hist_dic[sample][var])"
   ]
  },
  {
   "cell_type": "code",
   "execution_count": 16,
   "metadata": {
    "scrolled": false
   },
   "outputs": [
    {
     "name": "stdout",
     "output_type": "stream",
     "text": [
      "m_jj\n",
      "M_jjj\n"
     ]
    },
    {
     "name": "stderr",
     "output_type": "stream",
     "text": [
      "Warning in <TCanvas::Constructor>: Deleting canvas with same name: m_jj\n",
      "Warning in <TCanvas::Constructor>: Deleting canvas with same name: M_jjj\n",
      "Info in <TCanvas::Print>: png file m_jj.png has been created\n",
      "Info in <TCanvas::Print>: png file M_jjj.png has been created\n"
     ]
    },
    {
     "data": {
      "image/png": "[encoded data removed]",
      "text/plain": [
       "<IPython.core.display.Image object>"
      ]
     },
     "metadata": {},
     "output_type": "display_data"
    },
    {
     "data": {
      "image/png": "[encoded data removed]",
      "text/plain": [
       "<IPython.core.display.Image object>"
      ]
     },
     "metadata": {},
     "output_type": "display_data"
    }
   ],
   "source": [
    "nvar = len(hist_dic.keys())\n",
    "nrow = math.ceil(nvar/3)\n",
    "plot_list = []\n",
    "leg_list = []\n",
    "plot_name_list = []\n",
    "for variable, hist in hist_stack.items():\n",
    "    y_upper = 0\n",
    "    getRangeY(hist)\n",
    "    c = TCanvas(variable,\"\",800,600)\n",
    "    leg = TLegend(0.6,0.8,0.87,0.85)\n",
    "    leg.SetBorderSize(0)\n",
    "    title = hist.GetTitle()\n",
    "    print(title)\n",
    "    plot(h_plot=hist, canvas=c, leg=leg, xtitle=title, dopt=\"HIST\", hlabel=\"QCD (41.5 fb^{-1})\")\n",
    "    plot_list.append(c)\n",
    "    leg_list.append(leg)\n",
    "    plot_name_list.append(hist.GetName())\n",
    "for i in range(0,len(plot_list)):\n",
    "    plot_list[i].cd()\n",
    "    plot_list[i].SetLogy()\n",
    "    leg_list[i].Draw()\n",
    "    plot_list[i].Draw()\n",
    "    plot_list[i].Print(f\"{plot_name_list[i]}.png\")"
   ]
  },
  {
   "cell_type": "code",
   "execution_count": null,
   "metadata": {},
   "outputs": [],
   "source": []
  }
 ],
 "metadata": {
  "kernelspec": {
   "display_name": "Python 3",
   "language": "python",
   "name": "python3"
  },
  "language_info": {
   "codemirror_mode": {
    "name": "ipython",
    "version": 3
   },
   "file_extension": ".py",
   "mimetype": "text/x-python",
   "name": "python",
   "nbconvert_exporter": "python",
   "pygments_lexer": "ipython3",
   "version": "3.7.9"
  }
 },
 "nbformat": 4,
 "nbformat_minor": 4
}
