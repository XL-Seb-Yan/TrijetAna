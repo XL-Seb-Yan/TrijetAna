{
 "cells": [
  {
   "cell_type": "code",
   "execution_count": null,
   "metadata": {},
   "outputs": [],
   "source": [
    "import ROOT\n",
    "from ROOT import TFile, TTree, TH1F, TCanvas, TAxis, TLegend, TTreeReader, TTreeReaderValue\n",
    "import copy\n",
    "ROOT.gStyle.SetOptStat(0)"
   ]
  },
  {
   "cell_type": "code",
   "execution_count": null,
   "metadata": {},
   "outputs": [],
   "source": [
    "m_jj = TH1F(\"m\")\n",
    "file = TFile.Open(f\"Res1ToRes2GluTo3Glu_M1-3000_R-0p5_ML_study.root\")\n",
    "tree = file.Get(\"Events\")"
   ]
  },
  {
   "cell_type": "code",
   "execution_count": null,
   "metadata": {},
   "outputs": [],
   "source": [
    "for i, event in enumerate(tree):\n",
    "    if i%10000 == 0:\n",
    "        print(\"Processing: \",i)"
   ]
  },
  {
   "cell_type": "code",
   "execution_count": null,
   "metadata": {},
   "outputs": [],
   "source": [
    "def getRangeY(hist_sel_sample_dic):\n",
    "    global y_upper\n",
    "    for sample, hist_sel_dic in hist_sel_sample_dic.items():\n",
    "        for name, hist in hist_sel_dic.items():\n",
    "            entries = [hist.GetBinContent(i) for i in range(1,hist.GetNbinsX())]\n",
    "            max_entry = max(entries)\n",
    "            if max_entry > y_upper:\n",
    "                y_upper = max_entry * 1.1\n",
    "def plot(h_plot, canvas, leg, lcolor, lstyle, xtitle, dopt, hlabel):\n",
    "    global y_upper\n",
    "    h_plot.SetLineWidth(2)\n",
    "    h_plot.SetLineColor(lcolor)\n",
    "    h_plot.SetLineStyle(lstyle)\n",
    "    h_plot.Draw(dopt)\n",
    "    h_plot.GetXaxis().SetTitle(xtitle)\n",
    "    h_plot.GetXaxis().SetTitleOffset(1.2)\n",
    "    h_plot.GetYaxis().SetTitle(\"Events\")\n",
    "    h_plot.GetYaxis().SetRangeUser(0,y_upper)\n",
    "    leg.AddEntry(h_plot,hlabel)"
   ]
  },
  {
   "cell_type": "code",
   "execution_count": null,
   "metadata": {
    "scrolled": false
   },
   "outputs": [],
   "source": [
    "import math\n",
    "ROOT.disableJSVis()\n",
    "nvar = len(histo_dic.keys())\n",
    "nrow = math.ceil(nvar/3)\n",
    "color_dic = {\"0\":{\"match\":2, \"unmatch\":4},\n",
    "            \"1\":{\"match\":6, \"unmatch\":8}}\n",
    "plot_list = []\n",
    "leg_list = []\n",
    "for variable, hist_sel_sample_dic in histo_dic.items():\n",
    "    y_upper = 0\n",
    "    getRangeY(hist_sel_sample_dic)\n",
    "    c = TCanvas(variable,\"\",800,600)\n",
    "    leg = TLegend(0.6,0.7,0.85,0.85)\n",
    "    title = variable2use[variable][\"title\"]\n",
    "    isample = 0\n",
    "    for sample, hist_sel_dic in hist_sel_sample_dic.items():\n",
    "#         plot(h_plot=hist_sel_dic[\"all\"], canvas=c, leg=leg, lcolor=11, lstyle=1, xtitle=title, dopt=\"HIST SAME\", hlabel=f\"{sample}, all pairs\")\n",
    "        plot(h_plot=hist_sel_dic[\"match\"], canvas=c, leg=leg, lcolor=color_dic[str(isample)][\"match\"], lstyle=1, xtitle=title, dopt=\"HIST SAME\", hlabel=f\"{sample}, matched pairs\")\n",
    "        plot(h_plot=hist_sel_dic[\"unmatch\"], canvas=c, leg=leg, lcolor=color_dic[str(isample)][\"unmatch\"], lstyle=1, xtitle=title, dopt=\"HIST SAME\", hlabel=f\"{sample}, unmatched pairs\")\n",
    "        isample += 1\n",
    "    plot_list.append(c)\n",
    "    leg_list.append(leg)\n",
    "# display(plot_list)\n",
    "# display(leg_list)\n",
    "plot_name = [x for x in histo_dic.keys()]\n",
    "for i in range(0,len(plot_list)):\n",
    "    plot_list[i].cd()\n",
    "    leg_list[i].Draw()\n",
    "    plot_list[i].Draw()\n",
    "    plot_list[i].Print(f\"{plot_name[i]}.png\")"
   ]
  },
  {
   "cell_type": "code",
   "execution_count": null,
   "metadata": {},
   "outputs": [],
   "source": []
  }
 ],
 "metadata": {
  "kernelspec": {
   "display_name": "Python 3",
   "language": "python",
   "name": "python3"
  },
  "language_info": {
   "codemirror_mode": {
    "name": "ipython",
    "version": 3
   },
   "file_extension": ".py",
   "mimetype": "text/x-python",
   "name": "python",
   "nbconvert_exporter": "python",
   "pygments_lexer": "ipython3",
   "version": "3.7.9"
  }
 },
 "nbformat": 4,
 "nbformat_minor": 4
}
